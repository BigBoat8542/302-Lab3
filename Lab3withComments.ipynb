{
  "nbformat": 4,
  "nbformat_minor": 0,
  "metadata": {
    "colab": {
      "name": "Lab3.ipynb",
      "provenance": [],
      "authorship_tag": "ABX9TyPzr/HnDXKXj/X4nJ0wd3Zy",
      "include_colab_link": true
    },
    "kernelspec": {
      "name": "python3",
      "display_name": "Python 3"
    }
  },
  "cells": [
    {
      "cell_type": "markdown",
      "metadata": {
        "id": "view-in-github",
        "colab_type": "text"
      },
      "source": [
        "<a href=\"https://colab.research.google.com/github/BigBoat8542/302-Lab3/blob/main/Lab3withComments.ipynb\" target=\"_parent\"><img src=\"https://colab.research.google.com/assets/colab-badge.svg\" alt=\"Open In Colab\"/></a>"
      ]
    },
    {
      "cell_type": "code",
      "metadata": {
        "colab": {
          "base_uri": "https://localhost:8080/"
        },
        "id": "RLwHlH0-uhbZ",
        "outputId": "9ffb65d5-c40e-404b-fe86-d8f0b1ca3967"
      },
      "source": [
        "#Assignment title: Lab 3- Web-scraping Current Weather Conditions\r\n",
        "#Date: 02/06/2020 Luke Watson-Sharer\r\n",
        "#Description: The script web-scrapes the weather.gov website to extract current weather conditions for a selected location in the U.S.\r\n",
        "#Inputs: Latitude & Longitude in Decimal Degrees\r\n",
        "#Outputs: Current Weather Conditions\r\n",
        "\r\n",
        "\r\n",
        "# Import required libraries\r\n",
        "import requests\r\n",
        "from bs4 import BeautifulSoup\r\n",
        "\r\n",
        "# Provide the latitude and longitude for the location you would like to check the weather for\r\n",
        "# Lat/lon in decimal degrees provided for Worcester, MA\r\n",
        "lat = '39.952583'\r\n",
        "lon = '-75.165222'\r\n",
        "\r\n",
        "# Create url for the requested location through string concatenation\r\n",
        "url = 'https://forecast.weather.gov/MapClick.php?lat='+lat+\"&lon=\"+lon\r\n",
        "# Check if the URL exists\r\n",
        "# print url\r\n",
        "\r\n",
        "# Send request to retrieve the web-page using the get() function from the requests library\r\n",
        "# The page variable stores the response from the web-page\r\n",
        "page = requests.get(url)\r\n",
        "\r\n",
        "# Create a BeautifulSoup object with the response from the URL\r\n",
        "# Access contents of the web-page using .content\r\n",
        "# html_parser is used since our page is in HTML format\r\n",
        "soup=BeautifulSoup(page.content,\"html.parser\")\r\n",
        "\r\n",
        "# Locate element on page to be scraped\r\n",
        "# This element is located within an id tag called current_conditions-summary\r\n",
        "# find() locates the element in the BeautifulSoup object\r\n",
        "cur_weather_conditions = soup.find(id=\"current_conditions_detail\")\r\n",
        "curr_weather_conditions = soup.find(id= \"current_conditions-summary\")\r\n",
        "\r\n",
        "# Extract text from the selected BeautifulSoup object using .text\r\n",
        "cur_weather_conditions = cur_weather_conditions.text\r\n",
        "curr_weather_conditions = curr_weather_conditions.text\r\n",
        "\r\n",
        "# Final Output\r\n",
        "# Return scraped information\r\n",
        "print('The Current Weather Conditions at '+ lat +  \", \" + lon + \" is:\" + cur_weather_conditions)\r\n",
        "print('Temperature right now is:' + curr_weather_conditions) "
      ],
      "execution_count": null,
      "outputs": [
        {
          "output_type": "stream",
          "text": [
            "The Current Weather Conditions at 39.952583, -75.165222 is:\n",
            "\n",
            "\n",
            "Humidity\n",
            "83%\n",
            "\n",
            "\n",
            "Wind Speed\n",
            "E 5 mph\n",
            "\n",
            "\n",
            "Barometer\n",
            "30.14 in (1020.4 mb)\n",
            "\n",
            "\n",
            "Dewpoint\n",
            "42°F (6°C)\n",
            "\n",
            "\n",
            "Visibility\n",
            "10.00 mi\n",
            "\n",
            "Wind Chill45°F (7°C) \n",
            "Last update\n",
            "\n",
            "                17 Mar 7:54 pm EDT            \n",
            "\n",
            "\n",
            "\n",
            "Temperature right now is:\n",
            "\n",
            "Overcast\n",
            "47°F\n",
            "8°C\n",
            "\n"
          ],
          "name": "stdout"
        }
      ]
    }
  ]
}